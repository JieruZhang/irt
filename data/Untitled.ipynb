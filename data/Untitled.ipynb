{
 "cells": [
  {
   "cell_type": "code",
   "execution_count": 2,
   "metadata": {
    "collapsed": true
   },
   "outputs": [],
   "source": [
    "import numpy as np\n",
    "prepared_file = \"/Users/zhangjieru/Documents/conan/irt/data/prepared_data_0401_0419_10:5\"\n",
    "with open(prepared_file, 'r') as f:\n",
    "    shared_type2keys2users2score = eval(f.read())\n",
    "\n"
   ]
  },
  {
   "cell_type": "code",
   "execution_count": 21,
   "metadata": {},
   "outputs": [
    {
     "name": "stdout",
     "output_type": "stream",
     "text": [
      "[0.09360411665046213, 0.11352568314221001, 0.12801021709621307, 0.20275289625403745, 0.20355168951844446, 0.22431378713520309, 0.24931382396159613, 0.23704216683172186, 0.18094953180952486, 0.15555266683192606, 0.15559523809523809, 0.13196699134199139, 0.068860877684407115, 0.1796875, 0.18541666666666665, 0.14177919924188578, 0.10825546248623172, 0.18482142857142855, 0.44740487582592847, 0.13172905525846701, 0.18013827759970596, 0.19398814032124329, 0.17138167338031837, 0.28138955735799348, 0.12683053897887664]\n"
     ]
    }
   ],
   "source": [
    "res = []\n",
    "for skillType in list(shared_type2keys2users2score.keys())[1:]:\n",
    "    for key in list(shared_type2keys2users2score[skillType].keys())[:5]:\n",
    "        diff_acc_abs = []\n",
    "        for user in shared_type2keys2users2score[skillType][key]:\n",
    "            ys1 = shared_type2keys2users2score[skillType][key][user][0]\n",
    "            ys2 = shared_type2keys2users2score[skillType][key][user][1]\n",
    "            acc1 = ys1.count(1)/len(ys1)\n",
    "            acc2 = ys2.count(1)/len(ys2)\n",
    "            diff_acc_abs.append(np.abs(acc1-acc2))\n",
    "        res.append(sum(diff_acc_abs)/len(diff_acc_abs))\n",
    "print(res)"
   ]
  },
  {
   "cell_type": "code",
   "execution_count": 38,
   "metadata": {},
   "outputs": [
    {
     "data": {
      "text/plain": [
       "0.19689825032396605"
      ]
     },
     "execution_count": 38,
     "metadata": {},
     "output_type": "execute_result"
    }
   ],
   "source": [
    "list1 = [0.12287817450423255, 0.14311244447148233, 0.15745727388465491, 0.20728837601125041, 0.2066225878827396, 0.24491375413739375, 0.26123879335781452, 0.25343873597397326, 0.22052662663484648, 0.18386701473906331, 0.15559523809523806, 0.1757169913419914, 0.13024195185320506, 0.16910282258064513, 0.18156392694063925, 0.18007744408803608, 0.13788789901521997, 0.22256652661064424, 0.41079160351471555, 0.20231729055258468, 0.17611583661314942, 0.19853315959723214, 0.16960918660783159, 0.25509366947041012, 0.15589892962015722]\n",
    "list2 = [0.10392262084376869, 0.12656396921197546, 0.14405172729988922, 0.20936776093995135, 0.21357297427366878, 0.25761698865327581, 0.27997386413428088, 0.24668712711752949, 0.23138948303250867, 0.18702729879238122, 0.15572344322344317, 0.12452651515151517, 0.12870133560670649, 0.12995631720430104, 0.14718892694063929, 0.12581607393836566, 0.12179234558544909, 0.14730392156862746, 0.4422769374027955, 0.21212121212121218, 0.19071336768795585, 0.18415684661997553, 0.15848633826276101, 0.19147303405046676, 0.16562115184237933]\n",
    "list3 = [0.09360411665046213, 0.11352568314221001, 0.12801021709621307, 0.20275289625403745, 0.20355168951844446, 0.22431378713520309, 0.24931382396159613, 0.23704216683172186, 0.18094953180952486, 0.15555266683192606, 0.15559523809523809, 0.13196699134199139, 0.068860877684407115, 0.1796875, 0.18541666666666665, 0.14177919924188578, 0.10825546248623172, 0.18482142857142855, 0.44740487582592847, 0.13172905525846701, 0.18013827759970596, 0.19398814032124329, 0.17138167338031837, 0.28138955735799348, 0.12683053897887664]\n",
    "np.mean(list1)"
   ]
  },
  {
   "cell_type": "code",
   "execution_count": 30,
   "metadata": {},
   "outputs": [
    {
     "name": "stdout",
     "output_type": "stream",
     "text": [
      "[0.15266480259713519, 0.21279352002789848, 0.14613042907526461, 0.20688359858669103]\n",
      "[0.1594958105138507, 0.24053895234599523, 0.13721930762532103, 0.20986209812328999]\n",
      "[0.14828892053227344, 0.20943439531399441, 0.14430545475766066, 0.20279800427678829]\n"
     ]
    }
   ],
   "source": [
    "l1 = []\n",
    "l2 = []\n",
    "l3 = []\n",
    "for i in range(4):\n",
    "    l1.append(np.mean(list1[i*5: i*5+5]))\n",
    "    l2.append(np.mean(list2[i*5: i*5+5]))\n",
    "    l3.append(np.mean(list3[i*5: i*5+5]))\n",
    "\n",
    "print(l1)\n",
    "print(l2)\n",
    "print(l3)"
   ]
  },
  {
   "cell_type": "code",
   "execution_count": 32,
   "metadata": {},
   "outputs": [
    {
     "data": {
      "image/png": "[encoded data removed]",
      "text/plain": [
       "<matplotlib.figure.Figure at 0x11a5132b0>"
      ]
     },
     "metadata": {},
     "output_type": "display_data"
    }
   ],
   "source": [
    "import numpy as np\n",
    "import matplotlib.pyplot as plt\n",
    "a = 1.26235635324033\n",
    "b = 0.956524880647556\n",
    "x = np.linspace(-10,10,1000)  #这个表示在-5到5之间生成1000个x值\n",
    "z = np.exp(a * (b - x))\n",
    "gp = a * z / ((1 + z)*(1 + z))\n",
    "p = 1 / (1 + z)\n",
    "y = gp / (p * (1-p))\n",
    "\n",
    "plt.plot(x, y)\n",
    "plt.show()"
   ]
  },
  {
   "cell_type": "code",
   "execution_count": 67,
   "metadata": {},
   "outputs": [
    {
     "name": "stdout",
     "output_type": "stream",
     "text": [
      "user_his_prob:  0.893856355418\n",
      "size_ratio:  1.79889828739\n"
     ]
    }
   ],
   "source": [
    "user_his_probs = []\n",
    "trainsize_testsize = []\n",
    "skillType = \"1\"\n",
    "key = \"241\"\n",
    "for user in shared_type2keys2users2score[skillType][key]:\n",
    "    prob_his = shared_type2keys2users2score[skillType][key][user][0].count(1) / len(shared_type2keys2users2score[skillType][key][user][0])  \n",
    "    user_his_probs.append(prob_his)\n",
    "    trainsize_testsize.append(len(shared_type2keys2users2score[skillType][key][user][0])/len(shared_type2keys2users2score[skillType][key][user][1]))\n",
    "print(\"user_his_prob: \", np.mean(user_his_probs))\n",
    "print(\"size_ratio: \", np.mean(trainsize_testsize))"
   ]
  },
  {
   "cell_type": "code",
   "execution_count": null,
   "metadata": {
    "collapsed": true
   },
   "outputs": [],
   "source": [
    "b =  0.956524880647556\n",
    "a = "
   ]
  }
 ],
 "metadata": {
  "kernelspec": {
   "display_name": "Python 3",
   "language": "python",
   "name": "python3"
  },
  "language_info": {
   "codemirror_mode": {
    "name": "ipython",
    "version": 3
   },
   "file_extension": ".py",
   "mimetype": "text/x-python",
   "name": "python",
   "nbconvert_exporter": "python",
   "pygments_lexer": "ipython3",
   "version": "3.6.2"
  }
 },
 "nbformat": 4,
 "nbformat_minor": 2
}
